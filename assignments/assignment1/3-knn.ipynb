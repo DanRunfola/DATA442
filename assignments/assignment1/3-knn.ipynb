{
 "cells": [
  {
   "cell_type": "markdown",
   "metadata": {},
   "source": [
    "In this step of lab 1 you will code and understand basic steps of image classification, including cross-validation, using a KNN classifier.\n",
    "\n",
    "Answers to the questions embedded in this code should be added to the file \"exampleSubmission.py\".\n"
   ]
  },
  {
   "cell_type": "code",
   "execution_count": 12,
   "metadata": {},
   "outputs": [
    {
     "name": "stdout",
     "output_type": "stream",
     "text": [
      "Confirm we have the expected 50,000 training Images:\n",
      "50000\n",
      "50000\n",
      "\n",
      "Confirm we have the expected 10,000 test Images:\n",
      "10000\n",
      "10000\n",
      "\n",
      "Confirm the first image in our training set is a 32x32x3 matrix of values, representing a 32x32 image with 3 bands of color:\n",
      "(32, 32, 3)\n",
      "\n",
      "Confirm our first y observation makes sense - i.e., an integer between 0 and 9 representing one of the 10 classes in CIFAR\n",
      "6\n",
      "9\n",
      "0\n"
     ]
    }
   ],
   "source": [
    "#First, let's load in the data we created in the previous step.\n",
    "import pickle\n",
    "\n",
    "with open(\"testTrainLab1.pickle\", \"rb\") as f:\n",
    "    labData = pickle.load(f)\n",
    "\n",
    "print(\"Confirm we have the expected 50,000 training Images:\")\n",
    "print(len(labData[\"X_train\"]))\n",
    "print(len(labData[\"y_train\"]))\n",
    "\n",
    "print(\"\\nConfirm we have the expected 10,000 test Images:\")\n",
    "print(len(labData[\"X_test\"]))\n",
    "print(len(labData[\"y_test\"]))\n",
    "\n",
    "print(\"\\nConfirm the first image in our training set is a 32x32x3 matrix of values, representing a 32x32 image with 3 bands of color:\")\n",
    "print(labData[\"X_train\"][0].shape)\n",
    "\n",
    "print(\"\\nConfirm our y observations make sense - i.e., an integer between 0 and 9 representing one of the 10 classes in CIFAR\")\n",
    "print(labData[\"y_train\"][0])\n",
    "print(max(labData[\"y_train\"]))\n",
    "print(min(labData[\"y_train\"]))"
   ]
  },
  {
   "cell_type": "code",
   "execution_count": 19,
   "metadata": {},
   "outputs": [
    {
     "name": "stdout",
     "output_type": "stream",
     "text": [
      "[[[ 59.  62.  63.]\n",
      "  [ 43.  46.  45.]\n",
      "  [ 50.  48.  43.]\n",
      "  ...\n",
      "  [158. 132. 108.]\n",
      "  [152. 125. 102.]\n",
      "  [148. 124. 103.]]\n",
      "\n",
      " [[ 16.  20.  20.]\n",
      "  [  0.   0.   0.]\n",
      "  [ 18.   8.   0.]\n",
      "  ...\n",
      "  [123.  88.  55.]\n",
      "  [119.  83.  50.]\n",
      "  [122.  87.  57.]]\n",
      "\n",
      " [[ 25.  24.  21.]\n",
      "  [ 16.   7.   0.]\n",
      "  [ 49.  27.   8.]\n",
      "  ...\n",
      "  [118.  84.  50.]\n",
      "  [120.  84.  50.]\n",
      "  [109.  73.  42.]]\n",
      "\n",
      " ...\n",
      "\n",
      " [[208. 170.  96.]\n",
      "  [201. 153.  34.]\n",
      "  [198. 161.  26.]\n",
      "  ...\n",
      "  [160. 133.  70.]\n",
      "  [ 56.  31.   7.]\n",
      "  [ 53.  34.  20.]]\n",
      "\n",
      " [[180. 139.  96.]\n",
      "  [173. 123.  42.]\n",
      "  [186. 144.  30.]\n",
      "  ...\n",
      "  [184. 148.  94.]\n",
      "  [ 97.  62.  34.]\n",
      "  [ 83.  53.  34.]]\n",
      "\n",
      " [[177. 144. 116.]\n",
      "  [168. 129.  94.]\n",
      "  [179. 142.  87.]\n",
      "  ...\n",
      "  [216. 184. 140.]\n",
      "  [151. 118.  84.]\n",
      "  [123.  92.  72.]]]\n",
      "\n",
      "Reshaped Matrix - note the first value is still '59', then '62', just like in the matrix form - it's just a long list now:\n",
      "[ 59.  62.  63. ... 123.  92.  72.]\n"
     ]
    }
   ],
   "source": [
    "import numpy as np\n",
    "#Here, we're going to reshape our image data\n",
    "#Right now, it's in matrices - i.e., the below will print out a matrix, \n",
    "#where each line of the matrix is a list:\n",
    "print(labData[\"X_train\"][0])\n",
    "\n",
    "#While we could use that data, it's less effecient than doing array\n",
    "#manipulations, where every value is in a single list.  Using array manipulations\n",
    "#Greatly speeds up our code - while that isn't terribly important for this lab,\n",
    "#it will be critical in the future, so let's get used to it now.\n",
    "#This will reshape into rows - we'll also go ahead and unpack from our dict.\n",
    "X_train = np.reshape(labData[\"X_train\"], (labData[\"X_train\"].shape[0], -1))\n",
    "X_test = np.reshape(labData[\"X_test\"], (labData[\"X_test\"].shape[0], -1))\n",
    "print(\"\\nReshaped Matrix - note the first value is still '59', then '62', just like in the matrix form - it's just a long list now:\")\n",
    "print(X_train[0])"
   ]
  },
  {
   "cell_type": "code",
   "execution_count": null,
   "metadata": {},
   "outputs": [],
   "source": []
  }
 ],
 "metadata": {
  "kernelspec": {
   "display_name": "Python 3",
   "language": "python",
   "name": "python3"
  },
  "language_info": {
   "codemirror_mode": {
    "name": "ipython",
    "version": 3
   },
   "file_extension": ".py",
   "mimetype": "text/x-python",
   "name": "python",
   "nbconvert_exporter": "python",
   "pygments_lexer": "ipython3",
   "version": "3.8.5"
  }
 },
 "nbformat": 4,
 "nbformat_minor": 4
}
